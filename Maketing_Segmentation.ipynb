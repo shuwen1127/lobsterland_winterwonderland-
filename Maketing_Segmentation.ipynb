{
  "nbformat": 4,
  "nbformat_minor": 0,
  "metadata": {
    "colab": {
      "name": "Maketing Segmentation.ipynb",
      "provenance": [],
      "mount_file_id": "1KbvOiwz2eItBp8PAxMbIf0d2kn9V_h6J",
      "authorship_tag": "ABX9TyPXPBKGACsz1zMpjUTz0ulR",
      "include_colab_link": true
    },
    "kernelspec": {
      "name": "python3",
      "display_name": "Python 3"
    },
    "language_info": {
      "name": "python"
    }
  },
  "cells": [
    {
      "cell_type": "markdown",
      "metadata": {
        "id": "view-in-github",
        "colab_type": "text"
      },
      "source": [
        "<a href=\"https://colab.research.google.com/github/shuwen1127/lobsterland_winterwonderland-/blob/main/Maketing_Segmentation.ipynb\" target=\"_parent\"><img src=\"https://colab.research.google.com/assets/colab-badge.svg\" alt=\"Open In Colab\"/></a>"
      ]
    },
    {
      "cell_type": "code",
      "metadata": {
        "id": "UDobWkhVsRmS"
      },
      "source": [
        "import numpy as np\n",
        "import pandas as pd\n",
        "import sklearn as sl\n",
        "import sklearn.preprocessing as preprocessing\n",
        "from sklearn.model_selection import train_test_split\n",
        "import seaborn as sns\n",
        "import matplotlib.pyplot as plt"
      ],
      "execution_count": 38,
      "outputs": []
    },
    {
      "cell_type": "code",
      "metadata": {
        "id": "WvlprwCusdUo"
      },
      "source": [
        "#from google.colab import files\n",
        "#uploaded = files.upload()"
      ],
      "execution_count": 39,
      "outputs": []
    },
    {
      "cell_type": "code",
      "metadata": {
        "colab": {
          "base_uri": "https://localhost:8080/"
        },
        "id": "J77IJVKuvFK5",
        "outputId": "fbd93060-21d4-4d48-ef9e-691217c4454d"
      },
      "source": [
        "from google.colab import drive \n",
        "drive.mount('/content/gdrive')"
      ],
      "execution_count": 40,
      "outputs": [
        {
          "output_type": "stream",
          "text": [
            "Drive already mounted at /content/gdrive; to attempt to forcibly remount, call drive.mount(\"/content/gdrive\", force_remount=True).\n"
          ],
          "name": "stdout"
        }
      ]
    },
    {
      "cell_type": "code",
      "metadata": {
        "colab": {
          "base_uri": "https://localhost:8080/",
          "height": 439
        },
        "id": "rzGwwtBOsmyc",
        "outputId": "90c2d040-06b8-4394-fed9-650a1734ffa6"
      },
      "source": [
        "df = pd.read_csv('gdrive/My Drive/dataset for K means clustering/newpass.csv')\n",
        "df"
      ],
      "execution_count": 41,
      "outputs": [
        {
          "output_type": "execute_result",
          "data": {
            "text/html": [
              "<div>\n",
              "<style scoped>\n",
              "    .dataframe tbody tr th:only-of-type {\n",
              "        vertical-align: middle;\n",
              "    }\n",
              "\n",
              "    .dataframe tbody tr th {\n",
              "        vertical-align: top;\n",
              "    }\n",
              "\n",
              "    .dataframe thead th {\n",
              "        text-align: right;\n",
              "    }\n",
              "</style>\n",
              "<table border=\"1\" class=\"dataframe\">\n",
              "  <thead>\n",
              "    <tr style=\"text-align: right;\">\n",
              "      <th></th>\n",
              "      <th>hhold_ID</th>\n",
              "      <th>visit_2018</th>\n",
              "      <th>visit_2019</th>\n",
              "      <th>visit_2020</th>\n",
              "      <th>household_pax</th>\n",
              "      <th>avg_ride_count</th>\n",
              "      <th>avg_food_spend</th>\n",
              "      <th>avg_merch_spend</th>\n",
              "      <th>park_home_dist</th>\n",
              "      <th>est_hh_income</th>\n",
              "    </tr>\n",
              "  </thead>\n",
              "  <tbody>\n",
              "    <tr>\n",
              "      <th>0</th>\n",
              "      <td>1</td>\n",
              "      <td>1</td>\n",
              "      <td>3</td>\n",
              "      <td>2</td>\n",
              "      <td>4</td>\n",
              "      <td>19</td>\n",
              "      <td>27</td>\n",
              "      <td>25.148980</td>\n",
              "      <td>145.397020</td>\n",
              "      <td>106667</td>\n",
              "    </tr>\n",
              "    <tr>\n",
              "      <th>1</th>\n",
              "      <td>2</td>\n",
              "      <td>2</td>\n",
              "      <td>2</td>\n",
              "      <td>1</td>\n",
              "      <td>3</td>\n",
              "      <td>18</td>\n",
              "      <td>15</td>\n",
              "      <td>18.549980</td>\n",
              "      <td>22.009987</td>\n",
              "      <td>83310</td>\n",
              "    </tr>\n",
              "    <tr>\n",
              "      <th>2</th>\n",
              "      <td>3</td>\n",
              "      <td>3</td>\n",
              "      <td>4</td>\n",
              "      <td>4</td>\n",
              "      <td>6</td>\n",
              "      <td>12</td>\n",
              "      <td>28</td>\n",
              "      <td>33.648800</td>\n",
              "      <td>8.242666</td>\n",
              "      <td>145482</td>\n",
              "    </tr>\n",
              "    <tr>\n",
              "      <th>3</th>\n",
              "      <td>4</td>\n",
              "      <td>1</td>\n",
              "      <td>3</td>\n",
              "      <td>5</td>\n",
              "      <td>1</td>\n",
              "      <td>22</td>\n",
              "      <td>12</td>\n",
              "      <td>17.734020</td>\n",
              "      <td>19.901816</td>\n",
              "      <td>110248</td>\n",
              "    </tr>\n",
              "    <tr>\n",
              "      <th>4</th>\n",
              "      <td>5</td>\n",
              "      <td>6</td>\n",
              "      <td>4</td>\n",
              "      <td>6</td>\n",
              "      <td>4</td>\n",
              "      <td>23</td>\n",
              "      <td>25</td>\n",
              "      <td>21.423620</td>\n",
              "      <td>10.544714</td>\n",
              "      <td>89930</td>\n",
              "    </tr>\n",
              "    <tr>\n",
              "      <th>...</th>\n",
              "      <td>...</td>\n",
              "      <td>...</td>\n",
              "      <td>...</td>\n",
              "      <td>...</td>\n",
              "      <td>...</td>\n",
              "      <td>...</td>\n",
              "      <td>...</td>\n",
              "      <td>...</td>\n",
              "      <td>...</td>\n",
              "      <td>...</td>\n",
              "    </tr>\n",
              "    <tr>\n",
              "      <th>7195</th>\n",
              "      <td>7196</td>\n",
              "      <td>3</td>\n",
              "      <td>11</td>\n",
              "      <td>8</td>\n",
              "      <td>3</td>\n",
              "      <td>20</td>\n",
              "      <td>13</td>\n",
              "      <td>24.550705</td>\n",
              "      <td>72.720767</td>\n",
              "      <td>137309</td>\n",
              "    </tr>\n",
              "    <tr>\n",
              "      <th>7196</th>\n",
              "      <td>7197</td>\n",
              "      <td>7</td>\n",
              "      <td>7</td>\n",
              "      <td>7</td>\n",
              "      <td>2</td>\n",
              "      <td>18</td>\n",
              "      <td>15</td>\n",
              "      <td>16.672560</td>\n",
              "      <td>11.717235</td>\n",
              "      <td>75141</td>\n",
              "    </tr>\n",
              "    <tr>\n",
              "      <th>7197</th>\n",
              "      <td>7198</td>\n",
              "      <td>1</td>\n",
              "      <td>2</td>\n",
              "      <td>2</td>\n",
              "      <td>4</td>\n",
              "      <td>22</td>\n",
              "      <td>28</td>\n",
              "      <td>28.750340</td>\n",
              "      <td>5.198354</td>\n",
              "      <td>129773</td>\n",
              "    </tr>\n",
              "    <tr>\n",
              "      <th>7198</th>\n",
              "      <td>7199</td>\n",
              "      <td>9</td>\n",
              "      <td>4</td>\n",
              "      <td>4</td>\n",
              "      <td>3</td>\n",
              "      <td>13</td>\n",
              "      <td>13</td>\n",
              "      <td>27.935700</td>\n",
              "      <td>26.845595</td>\n",
              "      <td>138744</td>\n",
              "    </tr>\n",
              "    <tr>\n",
              "      <th>7199</th>\n",
              "      <td>7200</td>\n",
              "      <td>0</td>\n",
              "      <td>3</td>\n",
              "      <td>2</td>\n",
              "      <td>4</td>\n",
              "      <td>20</td>\n",
              "      <td>25</td>\n",
              "      <td>22.241220</td>\n",
              "      <td>24.912990</td>\n",
              "      <td>113257</td>\n",
              "    </tr>\n",
              "  </tbody>\n",
              "</table>\n",
              "<p>7200 rows × 10 columns</p>\n",
              "</div>"
            ],
            "text/plain": [
              "      hhold_ID  visit_2018  ...  park_home_dist  est_hh_income\n",
              "0            1           1  ...      145.397020         106667\n",
              "1            2           2  ...       22.009987          83310\n",
              "2            3           3  ...        8.242666         145482\n",
              "3            4           1  ...       19.901816         110248\n",
              "4            5           6  ...       10.544714          89930\n",
              "...        ...         ...  ...             ...            ...\n",
              "7195      7196           3  ...       72.720767         137309\n",
              "7196      7197           7  ...       11.717235          75141\n",
              "7197      7198           1  ...        5.198354         129773\n",
              "7198      7199           9  ...       26.845595         138744\n",
              "7199      7200           0  ...       24.912990         113257\n",
              "\n",
              "[7200 rows x 10 columns]"
            ]
          },
          "metadata": {
            "tags": []
          },
          "execution_count": 41
        }
      ]
    },
    {
      "cell_type": "markdown",
      "metadata": {
        "id": "jgKlXNPS_laE"
      },
      "source": [
        "# Data clening "
      ]
    },
    {
      "cell_type": "code",
      "metadata": {
        "id": "gQ5lXWQt_zkJ"
      },
      "source": [
        "# if missing data"
      ],
      "execution_count": 42,
      "outputs": []
    },
    {
      "cell_type": "code",
      "metadata": {
        "colab": {
          "base_uri": "https://localhost:8080/",
          "height": 379
        },
        "id": "sd59y3TeQKvo",
        "outputId": "8bb53ed4-13c0-4d5d-9487-332ac4c76996"
      },
      "source": [
        "# correlation heatmap\n",
        "\n",
        "# normolize \n",
        "data = df.corr()\n",
        "data"
      ],
      "execution_count": 43,
      "outputs": [
        {
          "output_type": "execute_result",
          "data": {
            "text/html": [
              "<div>\n",
              "<style scoped>\n",
              "    .dataframe tbody tr th:only-of-type {\n",
              "        vertical-align: middle;\n",
              "    }\n",
              "\n",
              "    .dataframe tbody tr th {\n",
              "        vertical-align: top;\n",
              "    }\n",
              "\n",
              "    .dataframe thead th {\n",
              "        text-align: right;\n",
              "    }\n",
              "</style>\n",
              "<table border=\"1\" class=\"dataframe\">\n",
              "  <thead>\n",
              "    <tr style=\"text-align: right;\">\n",
              "      <th></th>\n",
              "      <th>hhold_ID</th>\n",
              "      <th>visit_2018</th>\n",
              "      <th>visit_2019</th>\n",
              "      <th>visit_2020</th>\n",
              "      <th>household_pax</th>\n",
              "      <th>avg_ride_count</th>\n",
              "      <th>avg_food_spend</th>\n",
              "      <th>avg_merch_spend</th>\n",
              "      <th>park_home_dist</th>\n",
              "      <th>est_hh_income</th>\n",
              "    </tr>\n",
              "  </thead>\n",
              "  <tbody>\n",
              "    <tr>\n",
              "      <th>hhold_ID</th>\n",
              "      <td>1.000000</td>\n",
              "      <td>0.014882</td>\n",
              "      <td>0.015089</td>\n",
              "      <td>0.011008</td>\n",
              "      <td>-0.000352</td>\n",
              "      <td>0.002421</td>\n",
              "      <td>-0.000001</td>\n",
              "      <td>-0.005025</td>\n",
              "      <td>0.016905</td>\n",
              "      <td>0.021279</td>\n",
              "    </tr>\n",
              "    <tr>\n",
              "      <th>visit_2018</th>\n",
              "      <td>0.014882</td>\n",
              "      <td>1.000000</td>\n",
              "      <td>0.324851</td>\n",
              "      <td>0.336451</td>\n",
              "      <td>0.014484</td>\n",
              "      <td>0.019192</td>\n",
              "      <td>0.027222</td>\n",
              "      <td>0.009561</td>\n",
              "      <td>-0.009439</td>\n",
              "      <td>-0.001813</td>\n",
              "    </tr>\n",
              "    <tr>\n",
              "      <th>visit_2019</th>\n",
              "      <td>0.015089</td>\n",
              "      <td>0.324851</td>\n",
              "      <td>1.000000</td>\n",
              "      <td>0.265360</td>\n",
              "      <td>-0.014388</td>\n",
              "      <td>-0.002481</td>\n",
              "      <td>-0.007643</td>\n",
              "      <td>0.017001</td>\n",
              "      <td>-0.024283</td>\n",
              "      <td>0.004604</td>\n",
              "    </tr>\n",
              "    <tr>\n",
              "      <th>visit_2020</th>\n",
              "      <td>0.011008</td>\n",
              "      <td>0.336451</td>\n",
              "      <td>0.265360</td>\n",
              "      <td>1.000000</td>\n",
              "      <td>-0.015098</td>\n",
              "      <td>0.011669</td>\n",
              "      <td>0.013205</td>\n",
              "      <td>0.011202</td>\n",
              "      <td>0.009898</td>\n",
              "      <td>0.000159</td>\n",
              "    </tr>\n",
              "    <tr>\n",
              "      <th>household_pax</th>\n",
              "      <td>-0.000352</td>\n",
              "      <td>0.014484</td>\n",
              "      <td>-0.014388</td>\n",
              "      <td>-0.015098</td>\n",
              "      <td>1.000000</td>\n",
              "      <td>0.280526</td>\n",
              "      <td>0.690098</td>\n",
              "      <td>-0.012393</td>\n",
              "      <td>-0.013696</td>\n",
              "      <td>0.012136</td>\n",
              "    </tr>\n",
              "    <tr>\n",
              "      <th>avg_ride_count</th>\n",
              "      <td>0.002421</td>\n",
              "      <td>0.019192</td>\n",
              "      <td>-0.002481</td>\n",
              "      <td>0.011669</td>\n",
              "      <td>0.280526</td>\n",
              "      <td>1.000000</td>\n",
              "      <td>0.325559</td>\n",
              "      <td>-0.018623</td>\n",
              "      <td>-0.005017</td>\n",
              "      <td>-0.009710</td>\n",
              "    </tr>\n",
              "    <tr>\n",
              "      <th>avg_food_spend</th>\n",
              "      <td>-0.000001</td>\n",
              "      <td>0.027222</td>\n",
              "      <td>-0.007643</td>\n",
              "      <td>0.013205</td>\n",
              "      <td>0.690098</td>\n",
              "      <td>0.325559</td>\n",
              "      <td>1.000000</td>\n",
              "      <td>-0.012335</td>\n",
              "      <td>-0.000155</td>\n",
              "      <td>0.009714</td>\n",
              "    </tr>\n",
              "    <tr>\n",
              "      <th>avg_merch_spend</th>\n",
              "      <td>-0.005025</td>\n",
              "      <td>0.009561</td>\n",
              "      <td>0.017001</td>\n",
              "      <td>0.011202</td>\n",
              "      <td>-0.012393</td>\n",
              "      <td>-0.018623</td>\n",
              "      <td>-0.012335</td>\n",
              "      <td>1.000000</td>\n",
              "      <td>0.013935</td>\n",
              "      <td>0.064925</td>\n",
              "    </tr>\n",
              "    <tr>\n",
              "      <th>park_home_dist</th>\n",
              "      <td>0.016905</td>\n",
              "      <td>-0.009439</td>\n",
              "      <td>-0.024283</td>\n",
              "      <td>0.009898</td>\n",
              "      <td>-0.013696</td>\n",
              "      <td>-0.005017</td>\n",
              "      <td>-0.000155</td>\n",
              "      <td>0.013935</td>\n",
              "      <td>1.000000</td>\n",
              "      <td>0.015465</td>\n",
              "    </tr>\n",
              "    <tr>\n",
              "      <th>est_hh_income</th>\n",
              "      <td>0.021279</td>\n",
              "      <td>-0.001813</td>\n",
              "      <td>0.004604</td>\n",
              "      <td>0.000159</td>\n",
              "      <td>0.012136</td>\n",
              "      <td>-0.009710</td>\n",
              "      <td>0.009714</td>\n",
              "      <td>0.064925</td>\n",
              "      <td>0.015465</td>\n",
              "      <td>1.000000</td>\n",
              "    </tr>\n",
              "  </tbody>\n",
              "</table>\n",
              "</div>"
            ],
            "text/plain": [
              "                 hhold_ID  visit_2018  ...  park_home_dist  est_hh_income\n",
              "hhold_ID         1.000000    0.014882  ...        0.016905       0.021279\n",
              "visit_2018       0.014882    1.000000  ...       -0.009439      -0.001813\n",
              "visit_2019       0.015089    0.324851  ...       -0.024283       0.004604\n",
              "visit_2020       0.011008    0.336451  ...        0.009898       0.000159\n",
              "household_pax   -0.000352    0.014484  ...       -0.013696       0.012136\n",
              "avg_ride_count   0.002421    0.019192  ...       -0.005017      -0.009710\n",
              "avg_food_spend  -0.000001    0.027222  ...       -0.000155       0.009714\n",
              "avg_merch_spend -0.005025    0.009561  ...        0.013935       0.064925\n",
              "park_home_dist   0.016905   -0.009439  ...        1.000000       0.015465\n",
              "est_hh_income    0.021279   -0.001813  ...        0.015465       1.000000\n",
              "\n",
              "[10 rows x 10 columns]"
            ]
          },
          "metadata": {
            "tags": []
          },
          "execution_count": 43
        }
      ]
    },
    {
      "cell_type": "code",
      "metadata": {
        "colab": {
          "base_uri": "https://localhost:8080/",
          "height": 480
        },
        "id": "9HtXiAuHUUWn",
        "outputId": "5b53eeea-44dc-4095-b7f3-51997ddc82a2"
      },
      "source": [
        "plt.figure(figsize=(16, 6))\n",
        "heatmap = sns.heatmap(data, vmin=-1, vmax=1, annot=True, cmap='BrBG')\n",
        "heatmap.set_title('Correlation Heatmap', fontdict={'fontsize':18}, pad=12);\n",
        "# save heatmap as .png file\n",
        "# dpi - sets the resolution of the saved image in dots/inches\n",
        "# bbox_inches - when set to 'tight' - does not allow the labels to be cropped\n",
        "plt.savefig('heatmap.png', dpi=300, bbox_inches='tight')"
      ],
      "execution_count": 44,
      "outputs": [
        {
          "output_type": "display_data",
          "data": {
            "image/png": "[encoded data removed]",
            "text/plain": [
              "<Figure size 1152x432 with 2 Axes>"
            ]
          },
          "metadata": {
            "tags": [],
            "needs_background": "light"
          }
        }
      ]
    },
    {
      "cell_type": "markdown",
      "metadata": {
        "id": "iFuOebYBw1uX"
      },
      "source": [
        "Heatmap correlation By generate this map, we can see a strong relation between house_hold_pax and average_food_spend "
      ]
    },
    {
      "cell_type": "code",
      "metadata": {
        "colab": {
          "base_uri": "https://localhost:8080/",
          "height": 317
        },
        "id": "g0Tw11Pjw0xr",
        "outputId": "d3e8ad27-7c1f-4c66-e3f6-2b49fe0c4ca6"
      },
      "source": [
        "df.describe()"
      ],
      "execution_count": 45,
      "outputs": [
        {
          "output_type": "execute_result",
          "data": {
            "text/html": [
              "<div>\n",
              "<style scoped>\n",
              "    .dataframe tbody tr th:only-of-type {\n",
              "        vertical-align: middle;\n",
              "    }\n",
              "\n",
              "    .dataframe tbody tr th {\n",
              "        vertical-align: top;\n",
              "    }\n",
              "\n",
              "    .dataframe thead th {\n",
              "        text-align: right;\n",
              "    }\n",
              "</style>\n",
              "<table border=\"1\" class=\"dataframe\">\n",
              "  <thead>\n",
              "    <tr style=\"text-align: right;\">\n",
              "      <th></th>\n",
              "      <th>hhold_ID</th>\n",
              "      <th>visit_2018</th>\n",
              "      <th>visit_2019</th>\n",
              "      <th>visit_2020</th>\n",
              "      <th>household_pax</th>\n",
              "      <th>avg_ride_count</th>\n",
              "      <th>avg_food_spend</th>\n",
              "      <th>avg_merch_spend</th>\n",
              "      <th>park_home_dist</th>\n",
              "      <th>est_hh_income</th>\n",
              "    </tr>\n",
              "  </thead>\n",
              "  <tbody>\n",
              "    <tr>\n",
              "      <th>count</th>\n",
              "      <td>7200.000000</td>\n",
              "      <td>7200.000000</td>\n",
              "      <td>7200.000000</td>\n",
              "      <td>7200.000000</td>\n",
              "      <td>7200.000000</td>\n",
              "      <td>7200.000000</td>\n",
              "      <td>7200.000000</td>\n",
              "      <td>7200.000000</td>\n",
              "      <td>7200.000000</td>\n",
              "      <td>7200.000000</td>\n",
              "    </tr>\n",
              "    <tr>\n",
              "      <th>mean</th>\n",
              "      <td>3600.500000</td>\n",
              "      <td>2.700000</td>\n",
              "      <td>3.952083</td>\n",
              "      <td>2.983194</td>\n",
              "      <td>2.736806</td>\n",
              "      <td>14.863056</td>\n",
              "      <td>17.533889</td>\n",
              "      <td>27.025812</td>\n",
              "      <td>31.083716</td>\n",
              "      <td>112115.481250</td>\n",
              "    </tr>\n",
              "    <tr>\n",
              "      <th>std</th>\n",
              "      <td>2078.605302</td>\n",
              "      <td>3.634694</td>\n",
              "      <td>4.404825</td>\n",
              "      <td>2.824027</td>\n",
              "      <td>1.077897</td>\n",
              "      <td>4.018933</td>\n",
              "      <td>4.892932</td>\n",
              "      <td>59.351138</td>\n",
              "      <td>25.016546</td>\n",
              "      <td>22544.894634</td>\n",
              "    </tr>\n",
              "    <tr>\n",
              "      <th>min</th>\n",
              "      <td>1.000000</td>\n",
              "      <td>0.000000</td>\n",
              "      <td>0.000000</td>\n",
              "      <td>0.000000</td>\n",
              "      <td>1.000000</td>\n",
              "      <td>2.000000</td>\n",
              "      <td>8.000000</td>\n",
              "      <td>0.420480</td>\n",
              "      <td>1.847302</td>\n",
              "      <td>37880.000000</td>\n",
              "    </tr>\n",
              "    <tr>\n",
              "      <th>25%</th>\n",
              "      <td>1800.750000</td>\n",
              "      <td>1.000000</td>\n",
              "      <td>2.000000</td>\n",
              "      <td>2.000000</td>\n",
              "      <td>2.000000</td>\n",
              "      <td>12.000000</td>\n",
              "      <td>14.000000</td>\n",
              "      <td>20.995290</td>\n",
              "      <td>14.917343</td>\n",
              "      <td>97040.250000</td>\n",
              "    </tr>\n",
              "    <tr>\n",
              "      <th>50%</th>\n",
              "      <td>3600.500000</td>\n",
              "      <td>2.000000</td>\n",
              "      <td>2.000000</td>\n",
              "      <td>2.000000</td>\n",
              "      <td>3.000000</td>\n",
              "      <td>15.000000</td>\n",
              "      <td>16.000000</td>\n",
              "      <td>24.550705</td>\n",
              "      <td>24.083105</td>\n",
              "      <td>111898.000000</td>\n",
              "    </tr>\n",
              "    <tr>\n",
              "      <th>75%</th>\n",
              "      <td>5400.250000</td>\n",
              "      <td>3.000000</td>\n",
              "      <td>5.000000</td>\n",
              "      <td>4.000000</td>\n",
              "      <td>3.000000</td>\n",
              "      <td>18.000000</td>\n",
              "      <td>19.000000</td>\n",
              "      <td>28.301250</td>\n",
              "      <td>38.987335</td>\n",
              "      <td>127501.250000</td>\n",
              "    </tr>\n",
              "    <tr>\n",
              "      <th>max</th>\n",
              "      <td>7200.000000</td>\n",
              "      <td>76.000000</td>\n",
              "      <td>107.000000</td>\n",
              "      <td>43.000000</td>\n",
              "      <td>6.000000</td>\n",
              "      <td>32.000000</td>\n",
              "      <td>36.000000</td>\n",
              "      <td>4388.708260</td>\n",
              "      <td>379.254856</td>\n",
              "      <td>195486.000000</td>\n",
              "    </tr>\n",
              "  </tbody>\n",
              "</table>\n",
              "</div>"
            ],
            "text/plain": [
              "          hhold_ID   visit_2018  ...  park_home_dist  est_hh_income\n",
              "count  7200.000000  7200.000000  ...     7200.000000    7200.000000\n",
              "mean   3600.500000     2.700000  ...       31.083716  112115.481250\n",
              "std    2078.605302     3.634694  ...       25.016546   22544.894634\n",
              "min       1.000000     0.000000  ...        1.847302   37880.000000\n",
              "25%    1800.750000     1.000000  ...       14.917343   97040.250000\n",
              "50%    3600.500000     2.000000  ...       24.083105  111898.000000\n",
              "75%    5400.250000     3.000000  ...       38.987335  127501.250000\n",
              "max    7200.000000    76.000000  ...      379.254856  195486.000000\n",
              "\n",
              "[8 rows x 10 columns]"
            ]
          },
          "metadata": {
            "tags": []
          },
          "execution_count": 45
        }
      ]
    },
    {
      "cell_type": "markdown",
      "metadata": {
        "id": "nqWvbfR3-brv"
      },
      "source": [
        "need to do standarlize, beacause the numbers are way too different "
      ]
    },
    {
      "cell_type": "code",
      "metadata": {
        "id": "dsxUn8p8-_2r"
      },
      "source": [
        ""
      ],
      "execution_count": 45,
      "outputs": []
    },
    {
      "cell_type": "code",
      "metadata": {
        "colab": {
          "base_uri": "https://localhost:8080/"
        },
        "id": "QBsqVV7bC0hy",
        "outputId": "62c14395-ed93-4fa4-ce6b-d77d04682aa8"
      },
      "source": [
        "df.visit_2018.describe()"
      ],
      "execution_count": 46,
      "outputs": [
        {
          "output_type": "execute_result",
          "data": {
            "text/plain": [
              "count    7200.000000\n",
              "mean        2.700000\n",
              "std         3.634694\n",
              "min         0.000000\n",
              "25%         1.000000\n",
              "50%         2.000000\n",
              "75%         3.000000\n",
              "max        76.000000\n",
              "Name: visit_2018, dtype: float64"
            ]
          },
          "metadata": {
            "tags": []
          },
          "execution_count": 46
        }
      ]
    },
    {
      "cell_type": "code",
      "metadata": {
        "colab": {
          "base_uri": "https://localhost:8080/",
          "height": 296
        },
        "id": "OkGb_X8R-hgW",
        "outputId": "8e17b0cb-cdee-438f-8216-40c625aaaf90"
      },
      "source": [
        "sns.countplot(x='visit_2018', data=df);\n",
        "plt.title('Distribution of visit_amount');"
      ],
      "execution_count": 47,
      "outputs": [
        {
          "output_type": "display_data",
          "data": {
            "image/png": "[encoded data removed]",
            "text/plain": [
              "<Figure size 432x288 with 1 Axes>"
            ]
          },
          "metadata": {
            "tags": [],
            "needs_background": "light"
          }
        }
      ]
    },
    {
      "cell_type": "code",
      "metadata": {
        "colab": {
          "base_uri": "https://localhost:8080/"
        },
        "id": "2dSPNezgDUyB",
        "outputId": "8a8053c0-1b81-4e23-930c-dbb3a27382d6"
      },
      "source": [
        "df.visit_2019.describe()"
      ],
      "execution_count": 48,
      "outputs": [
        {
          "output_type": "execute_result",
          "data": {
            "text/plain": [
              "count    7200.000000\n",
              "mean        3.952083\n",
              "std         4.404825\n",
              "min         0.000000\n",
              "25%         2.000000\n",
              "50%         2.000000\n",
              "75%         5.000000\n",
              "max       107.000000\n",
              "Name: visit_2019, dtype: float64"
            ]
          },
          "metadata": {
            "tags": []
          },
          "execution_count": 48
        }
      ]
    },
    {
      "cell_type": "code",
      "metadata": {
        "colab": {
          "base_uri": "https://localhost:8080/",
          "height": 296
        },
        "id": "ks-6Y_zlCske",
        "outputId": "c74c9574-20c5-421c-aba5-c79f4da952ce"
      },
      "source": [
        "sns.countplot(x='visit_2019', data=df);\n",
        "plt.title('Distribution of visit_amount');"
      ],
      "execution_count": 49,
      "outputs": [
        {
          "output_type": "display_data",
          "data": {
            "image/png": "[encoded data removed]",
            "text/plain": [
              "<Figure size 432x288 with 1 Axes>"
            ]
          },
          "metadata": {
            "tags": [],
            "needs_background": "light"
          }
        }
      ]
    },
    {
      "cell_type": "code",
      "metadata": {
        "colab": {
          "base_uri": "https://localhost:8080/"
        },
        "id": "e9ZUmheDEAeE",
        "outputId": "f0a617b7-e29b-4a8b-9ce1-6c000e0dff96"
      },
      "source": [
        "df.visit_2020.describe()"
      ],
      "execution_count": 50,
      "outputs": [
        {
          "output_type": "execute_result",
          "data": {
            "text/plain": [
              "count    7200.000000\n",
              "mean        2.983194\n",
              "std         2.824027\n",
              "min         0.000000\n",
              "25%         2.000000\n",
              "50%         2.000000\n",
              "75%         4.000000\n",
              "max        43.000000\n",
              "Name: visit_2020, dtype: float64"
            ]
          },
          "metadata": {
            "tags": []
          },
          "execution_count": 50
        }
      ]
    },
    {
      "cell_type": "code",
      "metadata": {
        "colab": {
          "base_uri": "https://localhost:8080/",
          "height": 296
        },
        "id": "NEuejRfhEDkO",
        "outputId": "74bb923e-2a1b-4a3e-d3d8-6570babc061d"
      },
      "source": [
        "sns.countplot(x='visit_2020', data=df);\n",
        "plt.title('Distribution of visit_amount');"
      ],
      "execution_count": 51,
      "outputs": [
        {
          "output_type": "display_data",
          "data": {
            "image/png": "[encoded data removed]",
            "text/plain": [
              "<Figure size 432x288 with 1 Axes>"
            ]
          },
          "metadata": {
            "tags": [],
            "needs_background": "light"
          }
        }
      ]
    },
    {
      "cell_type": "markdown",
      "metadata": {
        "id": "5zDxaAc5B0lX"
      },
      "source": [
        "## add one coloumn，sum三年总量，I want to use avg_visitors over three years"
      ]
    },
    {
      "cell_type": "code",
      "metadata": {
        "colab": {
          "base_uri": "https://localhost:8080/",
          "height": 439
        },
        "id": "GPuRZYLAAlte",
        "outputId": "39c6b1a1-3682-4c12-d976-fe7ce05c8dde"
      },
      "source": [
        "sum_column = df[\"visit_2018\"] + df[\"visit_2019\"] + df[\"visit_2020\"]\n",
        "df[\"sum_visits\"] = sum_column\n",
        "df"
      ],
      "execution_count": 52,
      "outputs": [
        {
          "output_type": "execute_result",
          "data": {
            "text/html": [
              "<div>\n",
              "<style scoped>\n",
              "    .dataframe tbody tr th:only-of-type {\n",
              "        vertical-align: middle;\n",
              "    }\n",
              "\n",
              "    .dataframe tbody tr th {\n",
              "        vertical-align: top;\n",
              "    }\n",
              "\n",
              "    .dataframe thead th {\n",
              "        text-align: right;\n",
              "    }\n",
              "</style>\n",
              "<table border=\"1\" class=\"dataframe\">\n",
              "  <thead>\n",
              "    <tr style=\"text-align: right;\">\n",
              "      <th></th>\n",
              "      <th>hhold_ID</th>\n",
              "      <th>visit_2018</th>\n",
              "      <th>visit_2019</th>\n",
              "      <th>visit_2020</th>\n",
              "      <th>household_pax</th>\n",
              "      <th>avg_ride_count</th>\n",
              "      <th>avg_food_spend</th>\n",
              "      <th>avg_merch_spend</th>\n",
              "      <th>park_home_dist</th>\n",
              "      <th>est_hh_income</th>\n",
              "      <th>sum_visits</th>\n",
              "    </tr>\n",
              "  </thead>\n",
              "  <tbody>\n",
              "    <tr>\n",
              "      <th>0</th>\n",
              "      <td>1</td>\n",
              "      <td>1</td>\n",
              "      <td>3</td>\n",
              "      <td>2</td>\n",
              "      <td>4</td>\n",
              "      <td>19</td>\n",
              "      <td>27</td>\n",
              "      <td>25.148980</td>\n",
              "      <td>145.397020</td>\n",
              "      <td>106667</td>\n",
              "      <td>6</td>\n",
              "    </tr>\n",
              "    <tr>\n",
              "      <th>1</th>\n",
              "      <td>2</td>\n",
              "      <td>2</td>\n",
              "      <td>2</td>\n",
              "      <td>1</td>\n",
              "      <td>3</td>\n",
              "      <td>18</td>\n",
              "      <td>15</td>\n",
              "      <td>18.549980</td>\n",
              "      <td>22.009987</td>\n",
              "      <td>83310</td>\n",
              "      <td>5</td>\n",
              "    </tr>\n",
              "    <tr>\n",
              "      <th>2</th>\n",
              "      <td>3</td>\n",
              "      <td>3</td>\n",
              "      <td>4</td>\n",
              "      <td>4</td>\n",
              "      <td>6</td>\n",
              "      <td>12</td>\n",
              "      <td>28</td>\n",
              "      <td>33.648800</td>\n",
              "      <td>8.242666</td>\n",
              "      <td>145482</td>\n",
              "      <td>11</td>\n",
              "    </tr>\n",
              "    <tr>\n",
              "      <th>3</th>\n",
              "      <td>4</td>\n",
              "      <td>1</td>\n",
              "      <td>3</td>\n",
              "      <td>5</td>\n",
              "      <td>1</td>\n",
              "      <td>22</td>\n",
              "      <td>12</td>\n",
              "      <td>17.734020</td>\n",
              "      <td>19.901816</td>\n",
              "      <td>110248</td>\n",
              "      <td>9</td>\n",
              "    </tr>\n",
              "    <tr>\n",
              "      <th>4</th>\n",
              "      <td>5</td>\n",
              "      <td>6</td>\n",
              "      <td>4</td>\n",
              "      <td>6</td>\n",
              "      <td>4</td>\n",
              "      <td>23</td>\n",
              "      <td>25</td>\n",
              "      <td>21.423620</td>\n",
              "      <td>10.544714</td>\n",
              "      <td>89930</td>\n",
              "      <td>16</td>\n",
              "    </tr>\n",
              "    <tr>\n",
              "      <th>...</th>\n",
              "      <td>...</td>\n",
              "      <td>...</td>\n",
              "      <td>...</td>\n",
              "      <td>...</td>\n",
              "      <td>...</td>\n",
              "      <td>...</td>\n",
              "      <td>...</td>\n",
              "      <td>...</td>\n",
              "      <td>...</td>\n",
              "      <td>...</td>\n",
              "      <td>...</td>\n",
              "    </tr>\n",
              "    <tr>\n",
              "      <th>7195</th>\n",
              "      <td>7196</td>\n",
              "      <td>3</td>\n",
              "      <td>11</td>\n",
              "      <td>8</td>\n",
              "      <td>3</td>\n",
              "      <td>20</td>\n",
              "      <td>13</td>\n",
              "      <td>24.550705</td>\n",
              "      <td>72.720767</td>\n",
              "      <td>137309</td>\n",
              "      <td>22</td>\n",
              "    </tr>\n",
              "    <tr>\n",
              "      <th>7196</th>\n",
              "      <td>7197</td>\n",
              "      <td>7</td>\n",
              "      <td>7</td>\n",
              "      <td>7</td>\n",
              "      <td>2</td>\n",
              "      <td>18</td>\n",
              "      <td>15</td>\n",
              "      <td>16.672560</td>\n",
              "      <td>11.717235</td>\n",
              "      <td>75141</td>\n",
              "      <td>21</td>\n",
              "    </tr>\n",
              "    <tr>\n",
              "      <th>7197</th>\n",
              "      <td>7198</td>\n",
              "      <td>1</td>\n",
              "      <td>2</td>\n",
              "      <td>2</td>\n",
              "      <td>4</td>\n",
              "      <td>22</td>\n",
              "      <td>28</td>\n",
              "      <td>28.750340</td>\n",
              "      <td>5.198354</td>\n",
              "      <td>129773</td>\n",
              "      <td>5</td>\n",
              "    </tr>\n",
              "    <tr>\n",
              "      <th>7198</th>\n",
              "      <td>7199</td>\n",
              "      <td>9</td>\n",
              "      <td>4</td>\n",
              "      <td>4</td>\n",
              "      <td>3</td>\n",
              "      <td>13</td>\n",
              "      <td>13</td>\n",
              "      <td>27.935700</td>\n",
              "      <td>26.845595</td>\n",
              "      <td>138744</td>\n",
              "      <td>17</td>\n",
              "    </tr>\n",
              "    <tr>\n",
              "      <th>7199</th>\n",
              "      <td>7200</td>\n",
              "      <td>0</td>\n",
              "      <td>3</td>\n",
              "      <td>2</td>\n",
              "      <td>4</td>\n",
              "      <td>20</td>\n",
              "      <td>25</td>\n",
              "      <td>22.241220</td>\n",
              "      <td>24.912990</td>\n",
              "      <td>113257</td>\n",
              "      <td>5</td>\n",
              "    </tr>\n",
              "  </tbody>\n",
              "</table>\n",
              "<p>7200 rows × 11 columns</p>\n",
              "</div>"
            ],
            "text/plain": [
              "      hhold_ID  visit_2018  ...  est_hh_income  sum_visits\n",
              "0            1           1  ...         106667           6\n",
              "1            2           2  ...          83310           5\n",
              "2            3           3  ...         145482          11\n",
              "3            4           1  ...         110248           9\n",
              "4            5           6  ...          89930          16\n",
              "...        ...         ...  ...            ...         ...\n",
              "7195      7196           3  ...         137309          22\n",
              "7196      7197           7  ...          75141          21\n",
              "7197      7198           1  ...         129773           5\n",
              "7198      7199           9  ...         138744          17\n",
              "7199      7200           0  ...         113257           5\n",
              "\n",
              "[7200 rows x 11 columns]"
            ]
          },
          "metadata": {
            "tags": []
          },
          "execution_count": 52
        }
      ]
    },
    {
      "cell_type": "code",
      "metadata": {
        "id": "SrahlJHX-nQX",
        "colab": {
          "base_uri": "https://localhost:8080/",
          "height": 439
        },
        "outputId": "3e2d598b-b2a7-441e-a4a7-590b06a6ceec"
      },
      "source": [
        "cte = df.drop(columns=['hhold_ID'])\n",
        "cte"
      ],
      "execution_count": 53,
      "outputs": [
        {
          "output_type": "execute_result",
          "data": {
            "text/html": [
              "<div>\n",
              "<style scoped>\n",
              "    .dataframe tbody tr th:only-of-type {\n",
              "        vertical-align: middle;\n",
              "    }\n",
              "\n",
              "    .dataframe tbody tr th {\n",
              "        vertical-align: top;\n",
              "    }\n",
              "\n",
              "    .dataframe thead th {\n",
              "        text-align: right;\n",
              "    }\n",
              "</style>\n",
              "<table border=\"1\" class=\"dataframe\">\n",
              "  <thead>\n",
              "    <tr style=\"text-align: right;\">\n",
              "      <th></th>\n",
              "      <th>visit_2018</th>\n",
              "      <th>visit_2019</th>\n",
              "      <th>visit_2020</th>\n",
              "      <th>household_pax</th>\n",
              "      <th>avg_ride_count</th>\n",
              "      <th>avg_food_spend</th>\n",
              "      <th>avg_merch_spend</th>\n",
              "      <th>park_home_dist</th>\n",
              "      <th>est_hh_income</th>\n",
              "      <th>sum_visits</th>\n",
              "    </tr>\n",
              "  </thead>\n",
              "  <tbody>\n",
              "    <tr>\n",
              "      <th>0</th>\n",
              "      <td>1</td>\n",
              "      <td>3</td>\n",
              "      <td>2</td>\n",
              "      <td>4</td>\n",
              "      <td>19</td>\n",
              "      <td>27</td>\n",
              "      <td>25.148980</td>\n",
              "      <td>145.397020</td>\n",
              "      <td>106667</td>\n",
              "      <td>6</td>\n",
              "    </tr>\n",
              "    <tr>\n",
              "      <th>1</th>\n",
              "      <td>2</td>\n",
              "      <td>2</td>\n",
              "      <td>1</td>\n",
              "      <td>3</td>\n",
              "      <td>18</td>\n",
              "      <td>15</td>\n",
              "      <td>18.549980</td>\n",
              "      <td>22.009987</td>\n",
              "      <td>83310</td>\n",
              "      <td>5</td>\n",
              "    </tr>\n",
              "    <tr>\n",
              "      <th>2</th>\n",
              "      <td>3</td>\n",
              "      <td>4</td>\n",
              "      <td>4</td>\n",
              "      <td>6</td>\n",
              "      <td>12</td>\n",
              "      <td>28</td>\n",
              "      <td>33.648800</td>\n",
              "      <td>8.242666</td>\n",
              "      <td>145482</td>\n",
              "      <td>11</td>\n",
              "    </tr>\n",
              "    <tr>\n",
              "      <th>3</th>\n",
              "      <td>1</td>\n",
              "      <td>3</td>\n",
              "      <td>5</td>\n",
              "      <td>1</td>\n",
              "      <td>22</td>\n",
              "      <td>12</td>\n",
              "      <td>17.734020</td>\n",
              "      <td>19.901816</td>\n",
              "      <td>110248</td>\n",
              "      <td>9</td>\n",
              "    </tr>\n",
              "    <tr>\n",
              "      <th>4</th>\n",
              "      <td>6</td>\n",
              "      <td>4</td>\n",
              "      <td>6</td>\n",
              "      <td>4</td>\n",
              "      <td>23</td>\n",
              "      <td>25</td>\n",
              "      <td>21.423620</td>\n",
              "      <td>10.544714</td>\n",
              "      <td>89930</td>\n",
              "      <td>16</td>\n",
              "    </tr>\n",
              "    <tr>\n",
              "      <th>...</th>\n",
              "      <td>...</td>\n",
              "      <td>...</td>\n",
              "      <td>...</td>\n",
              "      <td>...</td>\n",
              "      <td>...</td>\n",
              "      <td>...</td>\n",
              "      <td>...</td>\n",
              "      <td>...</td>\n",
              "      <td>...</td>\n",
              "      <td>...</td>\n",
              "    </tr>\n",
              "    <tr>\n",
              "      <th>7195</th>\n",
              "      <td>3</td>\n",
              "      <td>11</td>\n",
              "      <td>8</td>\n",
              "      <td>3</td>\n",
              "      <td>20</td>\n",
              "      <td>13</td>\n",
              "      <td>24.550705</td>\n",
              "      <td>72.720767</td>\n",
              "      <td>137309</td>\n",
              "      <td>22</td>\n",
              "    </tr>\n",
              "    <tr>\n",
              "      <th>7196</th>\n",
              "      <td>7</td>\n",
              "      <td>7</td>\n",
              "      <td>7</td>\n",
              "      <td>2</td>\n",
              "      <td>18</td>\n",
              "      <td>15</td>\n",
              "      <td>16.672560</td>\n",
              "      <td>11.717235</td>\n",
              "      <td>75141</td>\n",
              "      <td>21</td>\n",
              "    </tr>\n",
              "    <tr>\n",
              "      <th>7197</th>\n",
              "      <td>1</td>\n",
              "      <td>2</td>\n",
              "      <td>2</td>\n",
              "      <td>4</td>\n",
              "      <td>22</td>\n",
              "      <td>28</td>\n",
              "      <td>28.750340</td>\n",
              "      <td>5.198354</td>\n",
              "      <td>129773</td>\n",
              "      <td>5</td>\n",
              "    </tr>\n",
              "    <tr>\n",
              "      <th>7198</th>\n",
              "      <td>9</td>\n",
              "      <td>4</td>\n",
              "      <td>4</td>\n",
              "      <td>3</td>\n",
              "      <td>13</td>\n",
              "      <td>13</td>\n",
              "      <td>27.935700</td>\n",
              "      <td>26.845595</td>\n",
              "      <td>138744</td>\n",
              "      <td>17</td>\n",
              "    </tr>\n",
              "    <tr>\n",
              "      <th>7199</th>\n",
              "      <td>0</td>\n",
              "      <td>3</td>\n",
              "      <td>2</td>\n",
              "      <td>4</td>\n",
              "      <td>20</td>\n",
              "      <td>25</td>\n",
              "      <td>22.241220</td>\n",
              "      <td>24.912990</td>\n",
              "      <td>113257</td>\n",
              "      <td>5</td>\n",
              "    </tr>\n",
              "  </tbody>\n",
              "</table>\n",
              "<p>7200 rows × 10 columns</p>\n",
              "</div>"
            ],
            "text/plain": [
              "      visit_2018  visit_2019  ...  est_hh_income  sum_visits\n",
              "0              1           3  ...         106667           6\n",
              "1              2           2  ...          83310           5\n",
              "2              3           4  ...         145482          11\n",
              "3              1           3  ...         110248           9\n",
              "4              6           4  ...          89930          16\n",
              "...          ...         ...  ...            ...         ...\n",
              "7195           3          11  ...         137309          22\n",
              "7196           7           7  ...          75141          21\n",
              "7197           1           2  ...         129773           5\n",
              "7198           9           4  ...         138744          17\n",
              "7199           0           3  ...         113257           5\n",
              "\n",
              "[7200 rows x 10 columns]"
            ]
          },
          "metadata": {
            "tags": []
          },
          "execution_count": 53
        }
      ]
    },
    {
      "cell_type": "code",
      "metadata": {
        "id": "rFhfUJKX_f_m",
        "colab": {
          "base_uri": "https://localhost:8080/"
        },
        "outputId": "935b029f-7ab5-4a35-e81f-4dd7cba4861a"
      },
      "source": [
        "cte.sum_visits.describe()"
      ],
      "execution_count": 54,
      "outputs": [
        {
          "output_type": "execute_result",
          "data": {
            "text/plain": [
              "count    7200.000000\n",
              "mean        9.635278\n",
              "std         8.031144\n",
              "min         0.000000\n",
              "25%         4.000000\n",
              "50%         6.000000\n",
              "75%        14.000000\n",
              "max       117.000000\n",
              "Name: sum_visits, dtype: float64"
            ]
          },
          "metadata": {
            "tags": []
          },
          "execution_count": 54
        }
      ]
    },
    {
      "cell_type": "code",
      "metadata": {
        "id": "FP4B1dyA-a4b",
        "colab": {
          "base_uri": "https://localhost:8080/",
          "height": 296
        },
        "outputId": "6db9cb48-bb24-4e36-d702-21a6e60e7b54"
      },
      "source": [
        "sns.countplot(x='sum_visits', data=cte);\n",
        "plt.title('Distribution of visit_amount');"
      ],
      "execution_count": 55,
      "outputs": [
        {
          "output_type": "display_data",
          "data": {
            "image/png": "[encoded data removed]",
            "text/plain": [
              "<Figure size 432x288 with 1 Axes>"
            ]
          },
          "metadata": {
            "tags": [],
            "needs_background": "light"
          }
        }
      ]
    },
    {
      "cell_type": "markdown",
      "metadata": {
        "id": "XrXsPdzBIqqP"
      },
      "source": [
        "This historical chart shows distribution of visitors come to the land  in the past three years."
      ]
    },
    {
      "cell_type": "code",
      "metadata": {
        "id": "4sok0IJvAQg7"
      },
      "source": [
        "# spliting training and testing data， ?should we do it here\n",
        "from sklearn.model_selection import train_test_split\n",
        "\n",
        "X = cte\n",
        "\n",
        "X_train, X_test = train_test_split(X,test_size=0.2,random_state=27)"
      ],
      "execution_count": 56,
      "outputs": []
    },
    {
      "cell_type": "code",
      "metadata": {
        "id": "sQAlE1qyBOQZ",
        "colab": {
          "base_uri": "https://localhost:8080/",
          "height": 317
        },
        "outputId": "fcf6a21e-eb7f-4d33-88e9-9ed8623961ff"
      },
      "source": [
        "X_train.describe()"
      ],
      "execution_count": 57,
      "outputs": [
        {
          "output_type": "execute_result",
          "data": {
            "text/html": [
              "<div>\n",
              "<style scoped>\n",
              "    .dataframe tbody tr th:only-of-type {\n",
              "        vertical-align: middle;\n",
              "    }\n",
              "\n",
              "    .dataframe tbody tr th {\n",
              "        vertical-align: top;\n",
              "    }\n",
              "\n",
              "    .dataframe thead th {\n",
              "        text-align: right;\n",
              "    }\n",
              "</style>\n",
              "<table border=\"1\" class=\"dataframe\">\n",
              "  <thead>\n",
              "    <tr style=\"text-align: right;\">\n",
              "      <th></th>\n",
              "      <th>visit_2018</th>\n",
              "      <th>visit_2019</th>\n",
              "      <th>visit_2020</th>\n",
              "      <th>household_pax</th>\n",
              "      <th>avg_ride_count</th>\n",
              "      <th>avg_food_spend</th>\n",
              "      <th>avg_merch_spend</th>\n",
              "      <th>park_home_dist</th>\n",
              "      <th>est_hh_income</th>\n",
              "      <th>sum_visits</th>\n",
              "    </tr>\n",
              "  </thead>\n",
              "  <tbody>\n",
              "    <tr>\n",
              "      <th>count</th>\n",
              "      <td>5760.000000</td>\n",
              "      <td>5760.000000</td>\n",
              "      <td>5760.000000</td>\n",
              "      <td>5760.000000</td>\n",
              "      <td>5760.00000</td>\n",
              "      <td>5760.000000</td>\n",
              "      <td>5760.000000</td>\n",
              "      <td>5760.000000</td>\n",
              "      <td>5760.000000</td>\n",
              "      <td>5760.000000</td>\n",
              "    </tr>\n",
              "    <tr>\n",
              "      <th>mean</th>\n",
              "      <td>2.686632</td>\n",
              "      <td>3.934722</td>\n",
              "      <td>3.006250</td>\n",
              "      <td>2.730035</td>\n",
              "      <td>14.86875</td>\n",
              "      <td>17.513368</td>\n",
              "      <td>26.729413</td>\n",
              "      <td>31.134589</td>\n",
              "      <td>112130.514410</td>\n",
              "      <td>9.627604</td>\n",
              "    </tr>\n",
              "    <tr>\n",
              "      <th>std</th>\n",
              "      <td>3.586438</td>\n",
              "      <td>4.469989</td>\n",
              "      <td>2.875545</td>\n",
              "      <td>1.073865</td>\n",
              "      <td>4.03016</td>\n",
              "      <td>4.879321</td>\n",
              "      <td>32.591451</td>\n",
              "      <td>24.861559</td>\n",
              "      <td>22647.948923</td>\n",
              "      <td>8.080578</td>\n",
              "    </tr>\n",
              "    <tr>\n",
              "      <th>min</th>\n",
              "      <td>0.000000</td>\n",
              "      <td>0.000000</td>\n",
              "      <td>0.000000</td>\n",
              "      <td>1.000000</td>\n",
              "      <td>3.00000</td>\n",
              "      <td>8.000000</td>\n",
              "      <td>0.420480</td>\n",
              "      <td>1.847302</td>\n",
              "      <td>37880.000000</td>\n",
              "      <td>0.000000</td>\n",
              "    </tr>\n",
              "    <tr>\n",
              "      <th>25%</th>\n",
              "      <td>1.000000</td>\n",
              "      <td>2.000000</td>\n",
              "      <td>2.000000</td>\n",
              "      <td>2.000000</td>\n",
              "      <td>12.00000</td>\n",
              "      <td>14.000000</td>\n",
              "      <td>21.004145</td>\n",
              "      <td>15.015434</td>\n",
              "      <td>96966.250000</td>\n",
              "      <td>4.000000</td>\n",
              "    </tr>\n",
              "    <tr>\n",
              "      <th>50%</th>\n",
              "      <td>2.000000</td>\n",
              "      <td>2.000000</td>\n",
              "      <td>2.000000</td>\n",
              "      <td>3.000000</td>\n",
              "      <td>15.00000</td>\n",
              "      <td>16.000000</td>\n",
              "      <td>24.550705</td>\n",
              "      <td>24.118560</td>\n",
              "      <td>111985.000000</td>\n",
              "      <td>6.000000</td>\n",
              "    </tr>\n",
              "    <tr>\n",
              "      <th>75%</th>\n",
              "      <td>3.000000</td>\n",
              "      <td>5.000000</td>\n",
              "      <td>4.000000</td>\n",
              "      <td>3.000000</td>\n",
              "      <td>18.00000</td>\n",
              "      <td>19.000000</td>\n",
              "      <td>28.334775</td>\n",
              "      <td>39.241381</td>\n",
              "      <td>127761.250000</td>\n",
              "      <td>14.000000</td>\n",
              "    </tr>\n",
              "    <tr>\n",
              "      <th>max</th>\n",
              "      <td>76.000000</td>\n",
              "      <td>107.000000</td>\n",
              "      <td>43.000000</td>\n",
              "      <td>6.000000</td>\n",
              "      <td>32.00000</td>\n",
              "      <td>36.000000</td>\n",
              "      <td>1419.502520</td>\n",
              "      <td>379.254856</td>\n",
              "      <td>195486.000000</td>\n",
              "      <td>117.000000</td>\n",
              "    </tr>\n",
              "  </tbody>\n",
              "</table>\n",
              "</div>"
            ],
            "text/plain": [
              "        visit_2018   visit_2019  ...  est_hh_income   sum_visits\n",
              "count  5760.000000  5760.000000  ...    5760.000000  5760.000000\n",
              "mean      2.686632     3.934722  ...  112130.514410     9.627604\n",
              "std       3.586438     4.469989  ...   22647.948923     8.080578\n",
              "min       0.000000     0.000000  ...   37880.000000     0.000000\n",
              "25%       1.000000     2.000000  ...   96966.250000     4.000000\n",
              "50%       2.000000     2.000000  ...  111985.000000     6.000000\n",
              "75%       3.000000     5.000000  ...  127761.250000    14.000000\n",
              "max      76.000000   107.000000  ...  195486.000000   117.000000\n",
              "\n",
              "[8 rows x 10 columns]"
            ]
          },
          "metadata": {
            "tags": []
          },
          "execution_count": 57
        }
      ]
    },
    {
      "cell_type": "code",
      "metadata": {
        "id": "zJfdGC11GU8Q"
      },
      "source": [
        "from sklearn.preprocessing import StandardScaler"
      ],
      "execution_count": 58,
      "outputs": []
    },
    {
      "cell_type": "code",
      "metadata": {
        "id": "58UfQwIj_5uv"
      },
      "source": [
        "# copy of datasets\n",
        "\n",
        "X_train_stand = X_train.copy()\n",
        "X_test_stand = X_test.copy()\n",
        "X_stand = X.copy()"
      ],
      "execution_count": 59,
      "outputs": []
    },
    {
      "cell_type": "code",
      "metadata": {
        "id": "LaWa8WNTBhtp"
      },
      "source": [
        "# numerical features\n",
        "num_cols = ['visit_2018','visit_2019','visit_2020','household_pax','avg_ride_count','avg_food_spend','avg_merch_spend','park_home_dist','est_hh_income','sum_visits']"
      ],
      "execution_count": 60,
      "outputs": []
    },
    {
      "cell_type": "code",
      "metadata": {
        "id": "bLBkr4bOAB7A"
      },
      "source": [
        "for i in num_cols:\n",
        "    \n",
        "    # fit on training data column\n",
        "    scale = StandardScaler().fit(X_train_stand[[i]])\n",
        "    \n",
        "    # transform the training data column\n",
        "    X_train[i] = scale.transform(X_train[[i]])\n",
        "\n",
        "    scale = StandardScaler().fit(X_stand[[i]])\n",
        "\n",
        "    X_stand[i] = scale.transform(X_stand[[i]])"
      ],
      "execution_count": null,
      "outputs": []
    },
    {
      "cell_type": "code",
      "metadata": {
        "id": "y7upjJJsBzP1",
        "colab": {
          "base_uri": "https://localhost:8080/",
          "height": 385
        },
        "outputId": "2b2bbdd1-098b-45bc-f899-007e2272a851"
      },
      "source": [
        "X_stand.describe()"
      ],
      "execution_count": 63,
      "outputs": [
        {
          "output_type": "execute_result",
          "data": {
            "text/html": [
              "<div>\n",
              "<style scoped>\n",
              "    .dataframe tbody tr th:only-of-type {\n",
              "        vertical-align: middle;\n",
              "    }\n",
              "\n",
              "    .dataframe tbody tr th {\n",
              "        vertical-align: top;\n",
              "    }\n",
              "\n",
              "    .dataframe thead th {\n",
              "        text-align: right;\n",
              "    }\n",
              "</style>\n",
              "<table border=\"1\" class=\"dataframe\">\n",
              "  <thead>\n",
              "    <tr style=\"text-align: right;\">\n",
              "      <th></th>\n",
              "      <th>visit_2018</th>\n",
              "      <th>visit_2019</th>\n",
              "      <th>visit_2020</th>\n",
              "      <th>household_pax</th>\n",
              "      <th>avg_ride_count</th>\n",
              "      <th>avg_food_spend</th>\n",
              "      <th>avg_merch_spend</th>\n",
              "      <th>park_home_dist</th>\n",
              "      <th>est_hh_income</th>\n",
              "      <th>sum_visits</th>\n",
              "    </tr>\n",
              "  </thead>\n",
              "  <tbody>\n",
              "    <tr>\n",
              "      <th>count</th>\n",
              "      <td>7.200000e+03</td>\n",
              "      <td>7.200000e+03</td>\n",
              "      <td>7.200000e+03</td>\n",
              "      <td>7.200000e+03</td>\n",
              "      <td>7.200000e+03</td>\n",
              "      <td>7.200000e+03</td>\n",
              "      <td>7.200000e+03</td>\n",
              "      <td>7.200000e+03</td>\n",
              "      <td>7.200000e+03</td>\n",
              "      <td>7.200000e+03</td>\n",
              "    </tr>\n",
              "    <tr>\n",
              "      <th>mean</th>\n",
              "      <td>2.733924e-17</td>\n",
              "      <td>-4.157939e-17</td>\n",
              "      <td>-1.209989e-16</td>\n",
              "      <td>-2.556597e-17</td>\n",
              "      <td>3.503370e-17</td>\n",
              "      <td>-1.396722e-16</td>\n",
              "      <td>2.228541e-17</td>\n",
              "      <td>2.083981e-17</td>\n",
              "      <td>-1.800643e-17</td>\n",
              "      <td>3.773216e-17</td>\n",
              "    </tr>\n",
              "    <tr>\n",
              "      <th>std</th>\n",
              "      <td>1.000069e+00</td>\n",
              "      <td>1.000069e+00</td>\n",
              "      <td>1.000069e+00</td>\n",
              "      <td>1.000069e+00</td>\n",
              "      <td>1.000069e+00</td>\n",
              "      <td>1.000069e+00</td>\n",
              "      <td>1.000069e+00</td>\n",
              "      <td>1.000069e+00</td>\n",
              "      <td>1.000069e+00</td>\n",
              "      <td>1.000069e+00</td>\n",
              "    </tr>\n",
              "    <tr>\n",
              "      <th>min</th>\n",
              "      <td>-7.428926e-01</td>\n",
              "      <td>-8.972792e-01</td>\n",
              "      <td>-1.056435e+00</td>\n",
              "      <td>-1.611403e+00</td>\n",
              "      <td>-3.200837e+00</td>\n",
              "      <td>-1.948637e+00</td>\n",
              "      <td>-4.483011e-01</td>\n",
              "      <td>-1.168764e+00</td>\n",
              "      <td>-3.293013e+00</td>\n",
              "      <td>-1.199823e+00</td>\n",
              "    </tr>\n",
              "    <tr>\n",
              "      <th>25%</th>\n",
              "      <td>-4.677472e-01</td>\n",
              "      <td>-4.432001e-01</td>\n",
              "      <td>-3.481775e-01</td>\n",
              "      <td>-6.836058e-01</td>\n",
              "      <td>-7.124414e-01</td>\n",
              "      <td>-7.222937e-01</td>\n",
              "      <td>-1.016146e-01</td>\n",
              "      <td>-6.462721e-01</td>\n",
              "      <td>-6.687225e-01</td>\n",
              "      <td>-7.017268e-01</td>\n",
              "    </tr>\n",
              "    <tr>\n",
              "      <th>50%</th>\n",
              "      <td>-1.926018e-01</td>\n",
              "      <td>-4.432001e-01</td>\n",
              "      <td>-3.481775e-01</td>\n",
              "      <td>2.441909e-01</td>\n",
              "      <td>3.407719e-02</td>\n",
              "      <td>-3.135125e-01</td>\n",
              "      <td>-4.170567e-02</td>\n",
              "      <td>-2.798587e-01</td>\n",
              "      <td>-9.647255e-03</td>\n",
              "      <td>-4.526790e-01</td>\n",
              "    </tr>\n",
              "    <tr>\n",
              "      <th>75%</th>\n",
              "      <td>8.254363e-02</td>\n",
              "      <td>2.379185e-01</td>\n",
              "      <td>3.600801e-01</td>\n",
              "      <td>2.441909e-01</td>\n",
              "      <td>7.805958e-01</td>\n",
              "      <td>2.996593e-01</td>\n",
              "      <td>2.149119e-02</td>\n",
              "      <td>3.159576e-01</td>\n",
              "      <td>6.824976e-01</td>\n",
              "      <td>5.435123e-01</td>\n",
              "    </tr>\n",
              "    <tr>\n",
              "      <th>max</th>\n",
              "      <td>2.016816e+01</td>\n",
              "      <td>2.339595e+01</td>\n",
              "      <td>1.417110e+01</td>\n",
              "      <td>3.027581e+00</td>\n",
              "      <td>4.264349e+00</td>\n",
              "      <td>3.774300e+00</td>\n",
              "      <td>7.349455e+01</td>\n",
              "      <td>1.391860e+01</td>\n",
              "      <td>3.698235e+00</td>\n",
              "      <td>1.336948e+01</td>\n",
              "    </tr>\n",
              "  </tbody>\n",
              "</table>\n",
              "</div>"
            ],
            "text/plain": [
              "         visit_2018    visit_2019  ...  est_hh_income    sum_visits\n",
              "count  7.200000e+03  7.200000e+03  ...   7.200000e+03  7.200000e+03\n",
              "mean   2.733924e-17 -4.157939e-17  ...  -1.800643e-17  3.773216e-17\n",
              "std    1.000069e+00  1.000069e+00  ...   1.000069e+00  1.000069e+00\n",
              "min   -7.428926e-01 -8.972792e-01  ...  -3.293013e+00 -1.199823e+00\n",
              "25%   -4.677472e-01 -4.432001e-01  ...  -6.687225e-01 -7.017268e-01\n",
              "50%   -1.926018e-01 -4.432001e-01  ...  -9.647255e-03 -4.526790e-01\n",
              "75%    8.254363e-02  2.379185e-01  ...   6.824976e-01  5.435123e-01\n",
              "max    2.016816e+01  2.339595e+01  ...   3.698235e+00  1.336948e+01\n",
              "\n",
              "[8 rows x 10 columns]"
            ]
          },
          "metadata": {
            "tags": []
          },
          "execution_count": 63
        }
      ]
    },
    {
      "cell_type": "markdown",
      "metadata": {
        "id": "V5f3EQ1IDYcJ"
      },
      "source": [
        "or Normalization ?"
      ]
    },
    {
      "cell_type": "code",
      "metadata": {
        "id": "Uv4Ts1q0B_IP"
      },
      "source": [
        "# data normalization with sklearn\n",
        "from sklearn.preprocessing import MinMaxScaler"
      ],
      "execution_count": 64,
      "outputs": []
    },
    {
      "cell_type": "code",
      "metadata": {
        "id": "vhysAvlSDi4I"
      },
      "source": [
        "# data normalization with sklearn\n",
        "from sklearn.preprocessing import MinMaxScaler\n",
        "\n",
        "# fit scaler on training data\n",
        "norm = MinMaxScaler().fit(X_stand)\n",
        "\n",
        "# transform training data\n",
        "X_norm = norm.transform(X_stand)\n",
        "\n",
        "# transform testing dataabs\n",
        "#X_test_norm = norm.transform(X_test)"
      ],
      "execution_count": 65,
      "outputs": []
    },
    {
      "cell_type": "code",
      "metadata": {
        "id": "SwqyA6t8HEex",
        "colab": {
          "base_uri": "https://localhost:8080/"
        },
        "outputId": "44eaf620-80c4-45cc-8c34-01d4f66e643c"
      },
      "source": [
        "print(X_norm)"
      ],
      "execution_count": 66,
      "outputs": [
        {
          "output_type": "stream",
          "text": [
            "[[0.01315789 0.02803738 0.04651163 ... 0.3803573  0.43644912 0.05128205]\n",
            " [0.02631579 0.01869159 0.02325581 ... 0.05342417 0.28825045 0.04273504]\n",
            " [0.03947368 0.03738318 0.09302326 ... 0.01694551 0.68272781 0.09401709]\n",
            " ...\n",
            " [0.01315789 0.01869159 0.04651163 ... 0.00887913 0.58305521 0.04273504]\n",
            " [0.11842105 0.03738318 0.09302326 ... 0.06623686 0.63997564 0.14529915]\n",
            " [0.         0.02803738 0.04651163 ... 0.06111613 0.47826225 0.04273504]]\n"
          ],
          "name": "stdout"
        }
      ]
    },
    {
      "cell_type": "code",
      "metadata": {
        "id": "bgGPfSoR2qDl",
        "colab": {
          "base_uri": "https://localhost:8080/",
          "height": 282
        },
        "outputId": "e7698de3-90ca-4301-81f3-954e45039c17"
      },
      "source": [
        "# Original \n",
        "sns.boxplot(data=X, orient=\"h\", palette=\"Set2\")\n"
      ],
      "execution_count": 67,
      "outputs": [
        {
          "output_type": "execute_result",
          "data": {
            "text/plain": [
              "<matplotlib.axes._subplots.AxesSubplot at 0x7ff45cc24450>"
            ]
          },
          "metadata": {
            "tags": []
          },
          "execution_count": 67
        },
        {
          "output_type": "display_data",
          "data": {
            "image/png": "[encoded data removed]",
            "text/plain": [
              "<Figure size 432x288 with 1 Axes>"
            ]
          },
          "metadata": {
            "tags": [],
            "needs_background": "light"
          }
        }
      ]
    },
    {
      "cell_type": "code",
      "metadata": {
        "id": "ni6TPFVE2qmu",
        "colab": {
          "base_uri": "https://localhost:8080/",
          "height": 282
        },
        "outputId": "a0e12cb5-6533-4b6e-cc04-8369678469d3"
      },
      "source": [
        "#Standarlization \n",
        "sns.boxplot(data=X_stand, orient=\"h\", palette=\"Set2\")"
      ],
      "execution_count": 68,
      "outputs": [
        {
          "output_type": "execute_result",
          "data": {
            "text/plain": [
              "<matplotlib.axes._subplots.AxesSubplot at 0x7ff45caa0a90>"
            ]
          },
          "metadata": {
            "tags": []
          },
          "execution_count": 68
        },
        {
          "output_type": "display_data",
          "data": {
            "image/png": "[encoded data removed]",
            "text/plain": [
              "<Figure size 432x288 with 1 Axes>"
            ]
          },
          "metadata": {
            "tags": [],
            "needs_background": "light"
          }
        }
      ]
    },
    {
      "cell_type": "code",
      "metadata": {
        "id": "KUhoUoJNjyzi",
        "colab": {
          "base_uri": "https://localhost:8080/",
          "height": 282
        },
        "outputId": "0ecdf779-5094-46c1-eba0-2d970af1ca70"
      },
      "source": [
        "#Normolization \n",
        "sns.boxplot(data=X_norm, orient=\"h\", palette=\"Set2\")"
      ],
      "execution_count": 69,
      "outputs": [
        {
          "output_type": "execute_result",
          "data": {
            "text/plain": [
              "<matplotlib.axes._subplots.AxesSubplot at 0x7ff45cc47390>"
            ]
          },
          "metadata": {
            "tags": []
          },
          "execution_count": 69
        },
        {
          "output_type": "display_data",
          "data": {
            "image/png": "[encoded data removed]",
            "text/plain": [
              "<Figure size 432x288 with 1 Axes>"
            ]
          },
          "metadata": {
            "tags": [],
            "needs_background": "light"
          }
        }
      ]
    },
    {
      "cell_type": "code",
      "metadata": {
        "id": "WffQMK24FyZB",
        "colab": {
          "base_uri": "https://localhost:8080/",
          "height": 317
        },
        "outputId": "a19c3733-4d28-4863-b1d9-240b9db233a8"
      },
      "source": [
        "from scipy.stats import zscore\n",
        "zscore = cte.copy().apply(zscore)\n",
        "zscore.describe().round(3)"
      ],
      "execution_count": 70,
      "outputs": [
        {
          "output_type": "execute_result",
          "data": {
            "text/html": [
              "<div>\n",
              "<style scoped>\n",
              "    .dataframe tbody tr th:only-of-type {\n",
              "        vertical-align: middle;\n",
              "    }\n",
              "\n",
              "    .dataframe tbody tr th {\n",
              "        vertical-align: top;\n",
              "    }\n",
              "\n",
              "    .dataframe thead th {\n",
              "        text-align: right;\n",
              "    }\n",
              "</style>\n",
              "<table border=\"1\" class=\"dataframe\">\n",
              "  <thead>\n",
              "    <tr style=\"text-align: right;\">\n",
              "      <th></th>\n",
              "      <th>visit_2018</th>\n",
              "      <th>visit_2019</th>\n",
              "      <th>visit_2020</th>\n",
              "      <th>household_pax</th>\n",
              "      <th>avg_ride_count</th>\n",
              "      <th>avg_food_spend</th>\n",
              "      <th>avg_merch_spend</th>\n",
              "      <th>park_home_dist</th>\n",
              "      <th>est_hh_income</th>\n",
              "      <th>sum_visits</th>\n",
              "    </tr>\n",
              "  </thead>\n",
              "  <tbody>\n",
              "    <tr>\n",
              "      <th>count</th>\n",
              "      <td>7200.000</td>\n",
              "      <td>7200.000</td>\n",
              "      <td>7200.000</td>\n",
              "      <td>7200.000</td>\n",
              "      <td>7200.000</td>\n",
              "      <td>7200.000</td>\n",
              "      <td>7200.000</td>\n",
              "      <td>7200.000</td>\n",
              "      <td>7200.000</td>\n",
              "      <td>7200.000</td>\n",
              "    </tr>\n",
              "    <tr>\n",
              "      <th>mean</th>\n",
              "      <td>-0.000</td>\n",
              "      <td>-0.000</td>\n",
              "      <td>-0.000</td>\n",
              "      <td>-0.000</td>\n",
              "      <td>-0.000</td>\n",
              "      <td>-0.000</td>\n",
              "      <td>-0.000</td>\n",
              "      <td>0.000</td>\n",
              "      <td>0.000</td>\n",
              "      <td>-0.000</td>\n",
              "    </tr>\n",
              "    <tr>\n",
              "      <th>std</th>\n",
              "      <td>1.000</td>\n",
              "      <td>1.000</td>\n",
              "      <td>1.000</td>\n",
              "      <td>1.000</td>\n",
              "      <td>1.000</td>\n",
              "      <td>1.000</td>\n",
              "      <td>1.000</td>\n",
              "      <td>1.000</td>\n",
              "      <td>1.000</td>\n",
              "      <td>1.000</td>\n",
              "    </tr>\n",
              "    <tr>\n",
              "      <th>min</th>\n",
              "      <td>-0.743</td>\n",
              "      <td>-0.897</td>\n",
              "      <td>-1.056</td>\n",
              "      <td>-1.611</td>\n",
              "      <td>-3.201</td>\n",
              "      <td>-1.949</td>\n",
              "      <td>-0.448</td>\n",
              "      <td>-1.169</td>\n",
              "      <td>-3.293</td>\n",
              "      <td>-1.200</td>\n",
              "    </tr>\n",
              "    <tr>\n",
              "      <th>25%</th>\n",
              "      <td>-0.468</td>\n",
              "      <td>-0.443</td>\n",
              "      <td>-0.348</td>\n",
              "      <td>-0.684</td>\n",
              "      <td>-0.712</td>\n",
              "      <td>-0.722</td>\n",
              "      <td>-0.102</td>\n",
              "      <td>-0.646</td>\n",
              "      <td>-0.669</td>\n",
              "      <td>-0.702</td>\n",
              "    </tr>\n",
              "    <tr>\n",
              "      <th>50%</th>\n",
              "      <td>-0.193</td>\n",
              "      <td>-0.443</td>\n",
              "      <td>-0.348</td>\n",
              "      <td>0.244</td>\n",
              "      <td>0.034</td>\n",
              "      <td>-0.314</td>\n",
              "      <td>-0.042</td>\n",
              "      <td>-0.280</td>\n",
              "      <td>-0.010</td>\n",
              "      <td>-0.453</td>\n",
              "    </tr>\n",
              "    <tr>\n",
              "      <th>75%</th>\n",
              "      <td>0.083</td>\n",
              "      <td>0.238</td>\n",
              "      <td>0.360</td>\n",
              "      <td>0.244</td>\n",
              "      <td>0.781</td>\n",
              "      <td>0.300</td>\n",
              "      <td>0.021</td>\n",
              "      <td>0.316</td>\n",
              "      <td>0.682</td>\n",
              "      <td>0.544</td>\n",
              "    </tr>\n",
              "    <tr>\n",
              "      <th>max</th>\n",
              "      <td>20.168</td>\n",
              "      <td>23.396</td>\n",
              "      <td>14.171</td>\n",
              "      <td>3.028</td>\n",
              "      <td>4.264</td>\n",
              "      <td>3.774</td>\n",
              "      <td>73.495</td>\n",
              "      <td>13.919</td>\n",
              "      <td>3.698</td>\n",
              "      <td>13.369</td>\n",
              "    </tr>\n",
              "  </tbody>\n",
              "</table>\n",
              "</div>"
            ],
            "text/plain": [
              "       visit_2018  visit_2019  ...  est_hh_income  sum_visits\n",
              "count    7200.000    7200.000  ...       7200.000    7200.000\n",
              "mean       -0.000      -0.000  ...          0.000      -0.000\n",
              "std         1.000       1.000  ...          1.000       1.000\n",
              "min        -0.743      -0.897  ...         -3.293      -1.200\n",
              "25%        -0.468      -0.443  ...         -0.669      -0.702\n",
              "50%        -0.193      -0.443  ...         -0.010      -0.453\n",
              "75%         0.083       0.238  ...          0.682       0.544\n",
              "max        20.168      23.396  ...          3.698      13.369\n",
              "\n",
              "[8 rows x 10 columns]"
            ]
          },
          "metadata": {
            "tags": []
          },
          "execution_count": 70
        }
      ]
    },
    {
      "cell_type": "markdown",
      "metadata": {
        "id": "psTpWk1-2-V9"
      },
      "source": [
        "We will standarlize dataset (Zscore)"
      ]
    },
    {
      "cell_type": "code",
      "metadata": {
        "id": "PtaznLU9_K2K",
        "colab": {
          "base_uri": "https://localhost:8080/",
          "height": 279
        },
        "outputId": "535bf2d9-7004-4e91-92f9-7069ddb2ba3d"
      },
      "source": [
        "from sklearn.cluster import KMeans\n",
        "\n",
        "from sklearn.cluster import KMeans\n",
        "\n",
        "sse={}\n",
        "tx_recency = X_stand[['visit_2018','visit_2019','visit_2020','household_pax','avg_ride_count','avg_food_spend','avg_merch_spend','park_home_dist','est_hh_income','sum_visits']]\n",
        "for k in range(1, 15):\n",
        "    kmeans = KMeans(n_clusters=k, max_iter=1000).fit(tx_recency)\n",
        "    tx_recency[\"clusters\"] = kmeans.labels_\n",
        "    sse[k] = kmeans.inertia_ \n",
        "plt.figure()\n",
        "plt.plot(list(sse.keys()), list(sse.values()))\n",
        "plt.xlabel(\"Number of cluster\")\n",
        "plt.show()"
      ],
      "execution_count": 71,
      "outputs": [
        {
          "output_type": "display_data",
          "data": {
            "image/png": "[encoded data removed]",
            "text/plain": [
              "<Figure size 432x288 with 1 Axes>"
            ]
          },
          "metadata": {
            "tags": [],
            "needs_background": "light"
          }
        }
      ]
    },
    {
      "cell_type": "markdown",
      "metadata": {
        "id": "M01v7ugk2lDp"
      },
      "source": [
        ""
      ]
    },
    {
      "cell_type": "code",
      "metadata": {
        "id": "Uppx002dFyjH",
        "colab": {
          "base_uri": "https://localhost:8080/",
          "height": 333
        },
        "outputId": "d7b9544b-f941-4e82-ea57-5680bcf9153b"
      },
      "source": [
        "from sklearn.cluster import KMeans\n",
        "sum_squared_dist = []\n",
        "K = range(1,15)\n",
        "for k in K:\n",
        "    km = KMeans(n_clusters=k, random_state=0)\n",
        "    km = km.fit(X_stand)\n",
        "    sum_squared_dist.append(km.inertia_)\n",
        "\n",
        "print(sum_squared_dist)\n",
        "\n",
        "import matplotlib.pyplot as plt\n",
        "plt.plot(sum_squared_dist, 'bx-')\n",
        "plt.xlabel('number of clusters k')\n",
        "plt.ylabel('Sum of squared distances')"
      ],
      "execution_count": 72,
      "outputs": [
        {
          "output_type": "stream",
          "text": [
            "[72000.0, 59525.72941133975, 50773.538768506216, 45372.56221267983, 42080.5159352162, 39647.287539717014, 36943.18171229152, 34728.13425293191, 32766.777832852997, 31130.252668950638, 29828.538088315952, 28747.05100808922, 27809.84854630076, 27088.0055659877]\n"
          ],
          "name": "stdout"
        },
        {
          "output_type": "execute_result",
          "data": {
            "text/plain": [
              "Text(0, 0.5, 'Sum of squared distances')"
            ]
          },
          "metadata": {
            "tags": []
          },
          "execution_count": 72
        },
        {
          "output_type": "display_data",
          "data": {
            "image/png": "[encoded data removed]",
            "text/plain": [
              "<Figure size 432x288 with 1 Axes>"
            ]
          },
          "metadata": {
            "tags": [],
            "needs_background": "light"
          }
        }
      ]
    },
    {
      "cell_type": "markdown",
      "metadata": {
        "id": "nh2NLQ2DNcAM"
      },
      "source": [
        "# method 1 "
      ]
    },
    {
      "cell_type": "code",
      "metadata": {
        "id": "Nb0BR6suytLt"
      },
      "source": [
        "kmeans = KMeans(n_clusters = 4, random_state = 10000)\n",
        "kmeans.fit(X_stand)\n",
        "labels = kmeans.labels_"
      ],
      "execution_count": 73,
      "outputs": []
    },
    {
      "cell_type": "code",
      "metadata": {
        "colab": {
          "base_uri": "https://localhost:8080/",
          "height": 255
        },
        "id": "2a_qK21-Nlpx",
        "outputId": "39ab67b2-d524-4976-c3a7-9926ac6cca29"
      },
      "source": [
        "data = X_stand.assign(Cluster = labels)\n",
        "data.groupby(['Cluster']).agg({\n",
        "    'visit_2018':['min','mean','max'],\n",
        "    'visit_2019':['min','mean','max'],\n",
        "    'visit_2020':['min','mean','max'],\n",
        "    'household_pax':['min','mean','max'],\n",
        "    'avg_ride_count':['min','mean','max'],\n",
        "    'avg_food_spend':['min','mean','max'],\n",
        "    'avg_merch_spend':['min','mean','max'],\n",
        "    'park_home_dist':['min','mean','max'],\n",
        "    'est_hh_income':['min','mean','max'],\n",
        "    'sum_visits':['min','mean','max'],\n",
        "}).round(2)"
      ],
      "execution_count": 74,
      "outputs": [
        {
          "output_type": "execute_result",
          "data": {
            "text/html": [
              "<div>\n",
              "<style scoped>\n",
              "    .dataframe tbody tr th:only-of-type {\n",
              "        vertical-align: middle;\n",
              "    }\n",
              "\n",
              "    .dataframe tbody tr th {\n",
              "        vertical-align: top;\n",
              "    }\n",
              "\n",
              "    .dataframe thead tr th {\n",
              "        text-align: left;\n",
              "    }\n",
              "\n",
              "    .dataframe thead tr:last-of-type th {\n",
              "        text-align: right;\n",
              "    }\n",
              "</style>\n",
              "<table border=\"1\" class=\"dataframe\">\n",
              "  <thead>\n",
              "    <tr>\n",
              "      <th></th>\n",
              "      <th colspan=\"3\" halign=\"left\">visit_2018</th>\n",
              "      <th colspan=\"3\" halign=\"left\">visit_2019</th>\n",
              "      <th colspan=\"3\" halign=\"left\">visit_2020</th>\n",
              "      <th colspan=\"3\" halign=\"left\">household_pax</th>\n",
              "      <th colspan=\"3\" halign=\"left\">avg_ride_count</th>\n",
              "      <th colspan=\"3\" halign=\"left\">avg_food_spend</th>\n",
              "      <th colspan=\"3\" halign=\"left\">avg_merch_spend</th>\n",
              "      <th colspan=\"3\" halign=\"left\">park_home_dist</th>\n",
              "      <th colspan=\"3\" halign=\"left\">est_hh_income</th>\n",
              "      <th colspan=\"3\" halign=\"left\">sum_visits</th>\n",
              "    </tr>\n",
              "    <tr>\n",
              "      <th></th>\n",
              "      <th>min</th>\n",
              "      <th>mean</th>\n",
              "      <th>max</th>\n",
              "      <th>min</th>\n",
              "      <th>mean</th>\n",
              "      <th>max</th>\n",
              "      <th>min</th>\n",
              "      <th>mean</th>\n",
              "      <th>max</th>\n",
              "      <th>min</th>\n",
              "      <th>mean</th>\n",
              "      <th>max</th>\n",
              "      <th>min</th>\n",
              "      <th>mean</th>\n",
              "      <th>max</th>\n",
              "      <th>min</th>\n",
              "      <th>mean</th>\n",
              "      <th>max</th>\n",
              "      <th>min</th>\n",
              "      <th>mean</th>\n",
              "      <th>max</th>\n",
              "      <th>min</th>\n",
              "      <th>mean</th>\n",
              "      <th>max</th>\n",
              "      <th>min</th>\n",
              "      <th>mean</th>\n",
              "      <th>max</th>\n",
              "      <th>min</th>\n",
              "      <th>mean</th>\n",
              "      <th>max</th>\n",
              "    </tr>\n",
              "    <tr>\n",
              "      <th>Cluster</th>\n",
              "      <th></th>\n",
              "      <th></th>\n",
              "      <th></th>\n",
              "      <th></th>\n",
              "      <th></th>\n",
              "      <th></th>\n",
              "      <th></th>\n",
              "      <th></th>\n",
              "      <th></th>\n",
              "      <th></th>\n",
              "      <th></th>\n",
              "      <th></th>\n",
              "      <th></th>\n",
              "      <th></th>\n",
              "      <th></th>\n",
              "      <th></th>\n",
              "      <th></th>\n",
              "      <th></th>\n",
              "      <th></th>\n",
              "      <th></th>\n",
              "      <th></th>\n",
              "      <th></th>\n",
              "      <th></th>\n",
              "      <th></th>\n",
              "      <th></th>\n",
              "      <th></th>\n",
              "      <th></th>\n",
              "      <th></th>\n",
              "      <th></th>\n",
              "      <th></th>\n",
              "    </tr>\n",
              "  </thead>\n",
              "  <tbody>\n",
              "    <tr>\n",
              "      <th>0</th>\n",
              "      <td>-0.74</td>\n",
              "      <td>-0.17</td>\n",
              "      <td>3.11</td>\n",
              "      <td>-0.90</td>\n",
              "      <td>-0.17</td>\n",
              "      <td>3.19</td>\n",
              "      <td>-1.06</td>\n",
              "      <td>-0.15</td>\n",
              "      <td>4.61</td>\n",
              "      <td>-0.68</td>\n",
              "      <td>1.40</td>\n",
              "      <td>3.03</td>\n",
              "      <td>-2.45</td>\n",
              "      <td>0.68</td>\n",
              "      <td>4.26</td>\n",
              "      <td>-0.11</td>\n",
              "      <td>1.62</td>\n",
              "      <td>3.77</td>\n",
              "      <td>-0.43</td>\n",
              "      <td>-0.02</td>\n",
              "      <td>7.96</td>\n",
              "      <td>-1.17</td>\n",
              "      <td>0.02</td>\n",
              "      <td>6.94</td>\n",
              "      <td>-3.17</td>\n",
              "      <td>0.01</td>\n",
              "      <td>3.15</td>\n",
              "      <td>-1.20</td>\n",
              "      <td>-0.22</td>\n",
              "      <td>1.91</td>\n",
              "    </tr>\n",
              "    <tr>\n",
              "      <th>1</th>\n",
              "      <td>-0.74</td>\n",
              "      <td>0.98</td>\n",
              "      <td>20.17</td>\n",
              "      <td>-0.90</td>\n",
              "      <td>0.98</td>\n",
              "      <td>23.40</td>\n",
              "      <td>-1.06</td>\n",
              "      <td>1.00</td>\n",
              "      <td>14.17</td>\n",
              "      <td>-1.61</td>\n",
              "      <td>-0.26</td>\n",
              "      <td>3.03</td>\n",
              "      <td>-2.95</td>\n",
              "      <td>-0.14</td>\n",
              "      <td>3.52</td>\n",
              "      <td>-1.95</td>\n",
              "      <td>-0.31</td>\n",
              "      <td>2.96</td>\n",
              "      <td>-0.45</td>\n",
              "      <td>0.02</td>\n",
              "      <td>23.46</td>\n",
              "      <td>-1.15</td>\n",
              "      <td>-0.02</td>\n",
              "      <td>7.56</td>\n",
              "      <td>-3.22</td>\n",
              "      <td>0.02</td>\n",
              "      <td>3.68</td>\n",
              "      <td>0.29</td>\n",
              "      <td>1.33</td>\n",
              "      <td>13.37</td>\n",
              "    </tr>\n",
              "    <tr>\n",
              "      <th>2</th>\n",
              "      <td>-0.74</td>\n",
              "      <td>-0.38</td>\n",
              "      <td>1.18</td>\n",
              "      <td>-0.90</td>\n",
              "      <td>-0.38</td>\n",
              "      <td>2.05</td>\n",
              "      <td>-1.06</td>\n",
              "      <td>-0.40</td>\n",
              "      <td>2.48</td>\n",
              "      <td>-1.61</td>\n",
              "      <td>-0.44</td>\n",
              "      <td>1.17</td>\n",
              "      <td>-3.20</td>\n",
              "      <td>-0.21</td>\n",
              "      <td>3.27</td>\n",
              "      <td>-1.95</td>\n",
              "      <td>-0.50</td>\n",
              "      <td>1.12</td>\n",
              "      <td>-0.45</td>\n",
              "      <td>-0.02</td>\n",
              "      <td>15.45</td>\n",
              "      <td>-1.16</td>\n",
              "      <td>0.00</td>\n",
              "      <td>13.92</td>\n",
              "      <td>-3.29</td>\n",
              "      <td>-0.01</td>\n",
              "      <td>3.70</td>\n",
              "      <td>-1.20</td>\n",
              "      <td>-0.52</td>\n",
              "      <td>0.54</td>\n",
              "    </tr>\n",
              "    <tr>\n",
              "      <th>3</th>\n",
              "      <td>0.08</td>\n",
              "      <td>0.08</td>\n",
              "      <td>0.08</td>\n",
              "      <td>0.92</td>\n",
              "      <td>0.92</td>\n",
              "      <td>0.92</td>\n",
              "      <td>0.36</td>\n",
              "      <td>0.36</td>\n",
              "      <td>0.36</td>\n",
              "      <td>-0.68</td>\n",
              "      <td>-0.68</td>\n",
              "      <td>-0.68</td>\n",
              "      <td>-1.46</td>\n",
              "      <td>-1.46</td>\n",
              "      <td>-1.46</td>\n",
              "      <td>-0.93</td>\n",
              "      <td>-0.93</td>\n",
              "      <td>-0.93</td>\n",
              "      <td>73.49</td>\n",
              "      <td>73.49</td>\n",
              "      <td>73.49</td>\n",
              "      <td>0.87</td>\n",
              "      <td>0.87</td>\n",
              "      <td>0.87</td>\n",
              "      <td>-0.53</td>\n",
              "      <td>-0.53</td>\n",
              "      <td>-0.53</td>\n",
              "      <td>0.67</td>\n",
              "      <td>0.67</td>\n",
              "      <td>0.67</td>\n",
              "    </tr>\n",
              "  </tbody>\n",
              "</table>\n",
              "</div>"
            ],
            "text/plain": [
              "        visit_2018              visit_2019  ... est_hh_income sum_visits             \n",
              "               min  mean    max        min  ...           max        min  mean    max\n",
              "Cluster                                     ...                                      \n",
              "0            -0.74 -0.17   3.11      -0.90  ...          3.15      -1.20 -0.22   1.91\n",
              "1            -0.74  0.98  20.17      -0.90  ...          3.68       0.29  1.33  13.37\n",
              "2            -0.74 -0.38   1.18      -0.90  ...          3.70      -1.20 -0.52   0.54\n",
              "3             0.08  0.08   0.08       0.92  ...         -0.53       0.67  0.67   0.67\n",
              "\n",
              "[4 rows x 30 columns]"
            ]
          },
          "metadata": {
            "tags": []
          },
          "execution_count": 74
        }
      ]
    },
    {
      "cell_type": "markdown",
      "metadata": {
        "id": "AywWOJEv8PwY"
      },
      "source": [
        "Cluster 0 \"Family Pax\", they spend a lot on food \n",
        "Cluster 1 \"Loyalty Visitors\", visit the most, high income\n",
        "Cluster 2 \"ramdom visitors\" \n",
        "Cluster 3 \"Out of State Visitors\" long distance drive, and high spend on merchandise "
      ]
    },
    {
      "cell_type": "code",
      "metadata": {
        "colab": {
          "base_uri": "https://localhost:8080/",
          "height": 224
        },
        "id": "OtnDFJAsYUqy",
        "outputId": "086efae3-8ebd-48d0-cd29-26f0bbe3fe23"
      },
      "source": [
        "data.round(2).head()"
      ],
      "execution_count": 76,
      "outputs": [
        {
          "output_type": "execute_result",
          "data": {
            "text/html": [
              "<div>\n",
              "<style scoped>\n",
              "    .dataframe tbody tr th:only-of-type {\n",
              "        vertical-align: middle;\n",
              "    }\n",
              "\n",
              "    .dataframe tbody tr th {\n",
              "        vertical-align: top;\n",
              "    }\n",
              "\n",
              "    .dataframe thead th {\n",
              "        text-align: right;\n",
              "    }\n",
              "</style>\n",
              "<table border=\"1\" class=\"dataframe\">\n",
              "  <thead>\n",
              "    <tr style=\"text-align: right;\">\n",
              "      <th></th>\n",
              "      <th>visit_2018</th>\n",
              "      <th>visit_2019</th>\n",
              "      <th>visit_2020</th>\n",
              "      <th>household_pax</th>\n",
              "      <th>avg_ride_count</th>\n",
              "      <th>avg_food_spend</th>\n",
              "      <th>avg_merch_spend</th>\n",
              "      <th>park_home_dist</th>\n",
              "      <th>est_hh_income</th>\n",
              "      <th>sum_visits</th>\n",
              "      <th>Cluster</th>\n",
              "    </tr>\n",
              "  </thead>\n",
              "  <tbody>\n",
              "    <tr>\n",
              "      <th>0</th>\n",
              "      <td>-0.47</td>\n",
              "      <td>-0.22</td>\n",
              "      <td>-0.35</td>\n",
              "      <td>1.17</td>\n",
              "      <td>1.03</td>\n",
              "      <td>1.93</td>\n",
              "      <td>-0.03</td>\n",
              "      <td>4.57</td>\n",
              "      <td>-0.24</td>\n",
              "      <td>-0.45</td>\n",
              "      <td>0</td>\n",
              "    </tr>\n",
              "    <tr>\n",
              "      <th>1</th>\n",
              "      <td>-0.19</td>\n",
              "      <td>-0.44</td>\n",
              "      <td>-0.70</td>\n",
              "      <td>0.24</td>\n",
              "      <td>0.78</td>\n",
              "      <td>-0.52</td>\n",
              "      <td>-0.14</td>\n",
              "      <td>-0.36</td>\n",
              "      <td>-1.28</td>\n",
              "      <td>-0.58</td>\n",
              "      <td>2</td>\n",
              "    </tr>\n",
              "    <tr>\n",
              "      <th>2</th>\n",
              "      <td>0.08</td>\n",
              "      <td>0.01</td>\n",
              "      <td>0.36</td>\n",
              "      <td>3.03</td>\n",
              "      <td>-0.71</td>\n",
              "      <td>2.14</td>\n",
              "      <td>0.11</td>\n",
              "      <td>-0.91</td>\n",
              "      <td>1.48</td>\n",
              "      <td>0.17</td>\n",
              "      <td>0</td>\n",
              "    </tr>\n",
              "    <tr>\n",
              "      <th>3</th>\n",
              "      <td>-0.47</td>\n",
              "      <td>-0.22</td>\n",
              "      <td>0.71</td>\n",
              "      <td>-1.61</td>\n",
              "      <td>1.78</td>\n",
              "      <td>-1.13</td>\n",
              "      <td>-0.16</td>\n",
              "      <td>-0.45</td>\n",
              "      <td>-0.08</td>\n",
              "      <td>-0.08</td>\n",
              "      <td>2</td>\n",
              "    </tr>\n",
              "    <tr>\n",
              "      <th>4</th>\n",
              "      <td>0.91</td>\n",
              "      <td>0.01</td>\n",
              "      <td>1.07</td>\n",
              "      <td>1.17</td>\n",
              "      <td>2.02</td>\n",
              "      <td>1.53</td>\n",
              "      <td>-0.09</td>\n",
              "      <td>-0.82</td>\n",
              "      <td>-0.98</td>\n",
              "      <td>0.79</td>\n",
              "      <td>0</td>\n",
              "    </tr>\n",
              "  </tbody>\n",
              "</table>\n",
              "</div>"
            ],
            "text/plain": [
              "   visit_2018  visit_2019  visit_2020  ...  est_hh_income  sum_visits  Cluster\n",
              "0       -0.47       -0.22       -0.35  ...          -0.24       -0.45        0\n",
              "1       -0.19       -0.44       -0.70  ...          -1.28       -0.58        2\n",
              "2        0.08        0.01        0.36  ...           1.48        0.17        0\n",
              "3       -0.47       -0.22        0.71  ...          -0.08       -0.08        2\n",
              "4        0.91        0.01        1.07  ...          -0.98        0.79        0\n",
              "\n",
              "[5 rows x 11 columns]"
            ]
          },
          "metadata": {
            "tags": []
          },
          "execution_count": 76
        }
      ]
    },
    {
      "cell_type": "code",
      "metadata": {
        "colab": {
          "base_uri": "https://localhost:8080/",
          "height": 279
        },
        "id": "p7qpBGxJQ4AP",
        "outputId": "99b32a12-c69c-45c3-b6e3-b0ca58e24d5b"
      },
      "source": [
        "sns.barplot(x = 'Cluster', y = 'est_hh_income', ci = None, data = data);"
      ],
      "execution_count": 34,
      "outputs": [
        {
          "output_type": "display_data",
          "data": {
            "image/png": "[encoded data removed]",
            "text/plain": [
              "<Figure size 432x288 with 1 Axes>"
            ]
          },
          "metadata": {
            "tags": [],
            "needs_background": "light"
          }
        }
      ]
    },
    {
      "cell_type": "code",
      "metadata": {
        "id": "ZseHp8rYqvug"
      },
      "source": [
        "df = data[(data.Cluster == 0) | (data.Cluster == 1)|(data.Cluster == 2) | (data.Cluster == 3) | (data.Cluster == 4) | (data.Cluster == 5)]"
      ],
      "execution_count": 35,
      "outputs": []
    },
    {
      "cell_type": "markdown",
      "metadata": {
        "id": "Z7UGMk1lMB1a"
      },
      "source": [
        ""
      ]
    },
    {
      "cell_type": "code",
      "metadata": {
        "colab": {
          "base_uri": "https://localhost:8080/",
          "height": 384
        },
        "id": "rskcdxZ0pwPl",
        "outputId": "6df13569-98df-4fd0-f13f-bc81573936ac"
      },
      "source": [
        "sns.relplot(x = 'est_hh_income', y = 'sum_visits', data = df, hue = 'Cluster', size = 'Cluster');"
      ],
      "execution_count": 36,
      "outputs": [
        {
          "output_type": "display_data",
          "data": {
            "image/png": "[encoded data removed]",
            "text/plain": [
              "<Figure size 403.5x360 with 1 Axes>"
            ]
          },
          "metadata": {
            "tags": [],
            "needs_background": "light"
          }
        }
      ]
    },
    {
      "cell_type": "markdown",
      "metadata": {
        "id": "vQSYsoqCUyD-"
      },
      "source": [
        "From the plot we can see no matter which level of income the residents have, they all have enthusiasm in travelling. The most sighnificant info is almost of all the Cluster 1 people stayed over the average level of travelling spend"
      ]
    },
    {
      "cell_type": "markdown",
      "metadata": {
        "id": "lkua0bm44xUi"
      },
      "source": [
        " "
      ]
    },
    {
      "cell_type": "code",
      "metadata": {
        "id": "SqJufAjJYU6y"
      },
      "source": [
        ""
      ],
      "execution_count": null,
      "outputs": []
    },
    {
      "cell_type": "code",
      "metadata": {
        "id": "T7ZHR1EzsmqQ"
      },
      "source": [
        ""
      ],
      "execution_count": null,
      "outputs": []
    },
    {
      "cell_type": "code",
      "metadata": {
        "id": "SMPq_KtatPpb"
      },
      "source": [
        ""
      ],
      "execution_count": null,
      "outputs": []
    },
    {
      "cell_type": "code",
      "metadata": {
        "id": "0QLqPiD1tfoV"
      },
      "source": [
        ""
      ],
      "execution_count": null,
      "outputs": []
    },
    {
      "cell_type": "code",
      "metadata": {
        "id": "72yOvvJPp_Eu"
      },
      "source": [
        ""
      ],
      "execution_count": null,
      "outputs": []
    },
    {
      "cell_type": "code",
      "metadata": {
        "id": "bj_F0H8mrhwr"
      },
      "source": [
        ")"
      ],
      "execution_count": null,
      "outputs": []
    },
    {
      "cell_type": "code",
      "metadata": {
        "id": "MU6P6FuWDcz1"
      },
      "source": [
        ""
      ],
      "execution_count": null,
      "outputs": []
    },
    {
      "cell_type": "code",
      "metadata": {
        "id": "Cq2u3QiZETzp"
      },
      "source": [
        ""
      ],
      "execution_count": null,
      "outputs": []
    }
  ]
}